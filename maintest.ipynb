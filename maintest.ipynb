{
 "cells": [
  {
   "cell_type": "code",
   "execution_count": 2,
   "metadata": {},
   "outputs": [
    {
     "name": "stdout",
     "output_type": "stream",
     "text": [
      "The autoreload extension is already loaded. To reload it, use:\n",
      "  %reload_ext autoreload\n"
     ]
    }
   ],
   "source": [
    "%load_ext autoreload\n",
    "%autoreload 2\n",
    "\n",
    "import librosa\n",
    "import matplotlib\n",
    "import numpy as np\n",
    "import matplotlib.pyplot as plt\n",
    "%matplotlib inline  \n",
    "\n",
    "import SpeechDownloader\n",
    "import SpeechGenerator\n",
    "import SpeechModels"
   ]
  },
  {
   "cell_type": "code",
   "execution_count": 5,
   "metadata": {
    "scrolled": true
   },
   "outputs": [
    {
     "name": "stderr",
     "output_type": "stream",
     "text": [
      "\n",
      "0it [00:00, ?it/s]\u001b[A\n",
      "\u001b[A\n",
      "0it [00:00, ?it/s]\u001b[A\n",
      "\u001b[A"
     ]
    },
    {
     "name": "stdout",
     "output_type": "stream",
     "text": [
      "Google Speech commands dataset version 2 already exists. Skipping download.\n",
      "Converting test set WAVs to numpy files\n",
      "Converting training set WAVs to numpy files\n",
      "Done preparing Google Speech commands dataset version 1\n"
     ]
    }
   ],
   "source": [
    "#Download and prepare all data\n",
    "gscInfo, nCategs = SpeechDownloader.PrepareGoogleSpeechCmd(version=1, task = '35word')"
   ]
  },
  {
   "cell_type": "code",
   "execution_count": 7,
   "metadata": {},
   "outputs": [
    {
     "name": "stdout",
     "output_type": "stream",
     "text": [
      "dict_keys(['train', 'test', 'val', 'testREAL'])\n",
      "dict_keys(['files', 'labels'])\n",
      "84849\n",
      "36\n"
     ]
    }
   ],
   "source": [
    "print(gscInfo.keys())\n",
    "print(gscInfo['train'].keys())\n",
    "print(len(gscInfo['train']['files']))\n",
    "print(nCategs)"
   ]
  },
  {
   "cell_type": "code",
   "execution_count": 8,
   "metadata": {},
   "outputs": [
    {
     "data": {
      "text/plain": [
       "155"
      ]
     },
     "execution_count": 8,
     "metadata": {},
     "output_type": "execute_result"
    }
   ],
   "source": [
    "sr=16000 #we know this one for google audios\n",
    "iLen = 16000\n",
    "trainGen = SpeechGenerator.SpeechGen(gscInfo['train']['files'], gscInfo['train']['labels'], shuffle=True)\n",
    "#handle the fact that number of samples in validation may not be multiple of batch_size with shuffle=True\n",
    "valGen   = SpeechGenerator.SpeechGen(gscInfo['val']['files'], gscInfo['val']['labels'], shuffle=True)\n",
    "valGen.__len__()"
   ]
  },
  {
   "cell_type": "code",
   "execution_count": 9,
   "metadata": {},
   "outputs": [
    {
     "data": {
      "text/plain": [
       "array([35, 25, 27,  1,  9, 22, 17,  2, 16, 25,  2,  4, 20, 16, 21, 10, 12,\n",
       "       31, 24, 18,  9,  2,  9, 15, 14,  8, 16, 20, 20, 15, 11, 11,  3, 13,\n",
       "       25,  3, 12, 10, 16, 20,  6, 31, 11, 14,  2, 16,  5,  4, 27,  9, 15,\n",
       "       28,  9, 10, 18, 24, 17, 20, 18, 21, 25, 32,  1, 18])"
      ]
     },
     "execution_count": 9,
     "metadata": {},
     "output_type": "execute_result"
    }
   ],
   "source": [
    "audios, classes = valGen.__getitem__(6)\n",
    "classes"
   ]
  },
  {
   "cell_type": "code",
   "execution_count": null,
   "metadata": {},
   "outputs": [],
   "source": []
  }
 ],
 "metadata": {
  "kernelspec": {
   "display_name": "Python 3",
   "language": "python",
   "name": "python3"
  },
  "language_info": {
   "codemirror_mode": {
    "name": "ipython",
    "version": 3
   },
   "file_extension": ".py",
   "mimetype": "text/x-python",
   "name": "python",
   "nbconvert_exporter": "python",
   "pygments_lexer": "ipython3",
   "version": "3.6.7"
  }
 },
 "nbformat": 4,
 "nbformat_minor": 2
}
