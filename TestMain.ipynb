{
 "cells": [
  {
   "cell_type": "markdown",
   "metadata": {},
   "source": [
    "## The Main file to test the models"
   ]
  },
  {
   "cell_type": "code",
   "execution_count": 69,
   "metadata": {
    "scrolled": true
   },
   "outputs": [],
   "source": [
    "import os\n",
    "from keras.models import Model, load_model\n",
    "#import audioUtils\n",
    "import numpy as np\n",
    "import librosa\n",
    "import SpeechModels\n",
    "from kapre.time_frequency import Melspectrogram, Spectrogram\n",
    "from kapre.utils import Normalization2D\n",
    "from keras.layers import Add, Dropout, BatchNormalization, Conv2D, Reshape, MaxPooling2D, Dense, LSTM, Bidirectional"
   ]
  },
  {
   "cell_type": "code",
   "execution_count": 70,
   "metadata": {},
   "outputs": [],
   "source": [
    "#Load the CNN model\n",
    "modelRootDict = \"TrainedModels\"\n",
    "testRootDict = \"Testing\"\n",
    "_cnn_model_path = os.path.join(\".\",modelRootDict,\"model-Conv2.h5\")\n",
    "#_rnn_model_path = os.path.join(\".\",modelRootDict,\"AttRNN_model.h5\")\n",
    "_custom_objects={'Melspectrogram':Melspectrogram(),'Normalization2D':Normalization2D(int_axis=0)}\n",
    "global theCNNModel\n",
    "def __load_model(modelPath):\n",
    "    theModel = load_model(modelPath,_custom_objects)\n",
    "    return theModel\n"
   ]
  },
  {
   "cell_type": "code",
   "execution_count": 84,
   "metadata": {},
   "outputs": [],
   "source": [
    "def _read_test_wav(wav_file):\n",
    "    '''\n",
    "    read the wav file and convert wav to numpy array.\n",
    "    '''\n",
    "    testfile = os.path.join(\".\", testRootDict, wav_file)\n",
    "    print(\"reading the test wav file:\",testfile)\n",
    "    return librosa.load(testfile,16000)\n",
    "    "
   ]
  },
  {
   "cell_type": "code",
   "execution_count": 91,
   "metadata": {},
   "outputs": [],
   "source": [
    "def _adjustShape(rawArray):\n",
    "    X = np.empty((1,16000))\n",
    "    if rawArray[0] == 16000:\n",
    "            X = rawArray\n",
    "            #print('Same dim')\n",
    "    elif rawArray.shape[0] > 16000: #bigger\n",
    "            #we can choose any position in curX-self.dim\n",
    "            randPos = np.random.randint(rawArray.shape[0]-16000) \n",
    "            X = rawArray[randPos:randPos+16000]\n",
    "            #print('File dim bigger')\n",
    "    else: #smaller\n",
    "            randPos = np.random.randint(16000-rawArray.shape[0])\n",
    "            X[i,randPos:randPos+rawArray.shape[0]] = rawArray\n",
    "            #print('File dim smaller')\n",
    "    return X"
   ]
  },
  {
   "cell_type": "code",
   "execution_count": 104,
   "metadata": {},
   "outputs": [],
   "source": [
    "def main():\n",
    "    print(\"Loading the Model...........\")\n",
    "    __theCNNModel = __load_model(_cnn_model_path)\n",
    "    print(\"Reading the test wav file.........\")\n",
    "    y, sr = _read_test_wav(\"Ho1226_8894_0.wav\")\n",
    "    y = _adjustShape(y)#np.transpose(_adjustShape(y))\n",
    "    print(\"y's shape is {0} and {1}\".format(y.shape, sr))\n",
    "    #y_result = __theCNNModel.predict(y)\n",
    "    #print(\"The predicting result is:\",y_result)\n",
    "    "
   ]
  },
  {
   "cell_type": "code",
   "execution_count": 105,
   "metadata": {},
   "outputs": [
    {
     "name": "stdout",
     "output_type": "stream",
     "text": [
      "Loading the Model...........\n",
      "Reading the test wav file.........\n",
      "reading the test wav file: ./Testing/Ho1226_8894_0.wav\n",
      "y's shape is (16000,) and 16000\n"
     ]
    }
   ],
   "source": [
    "if __name__ == \"__main__\":\n",
    "    #npary, sample_rate = _read_test_wav(\"Ho1226_8894_0.wav\")\n",
    "    #print(\"NumPy Arrary of testing file is {0} and sample rate is {1}\".format(npary, sample_rate))\n",
    "    #print(\"Loading the Model...........\")\n",
    "    #__load_model(_cnn_model_path)\n",
    "    main()"
   ]
  },
  {
   "cell_type": "code",
   "execution_count": null,
   "metadata": {},
   "outputs": [],
   "source": []
  },
  {
   "cell_type": "code",
   "execution_count": null,
   "metadata": {},
   "outputs": [],
   "source": []
  }
 ],
 "metadata": {
  "kernelspec": {
   "display_name": "Python 3",
   "language": "python",
   "name": "python3"
  },
  "language_info": {
   "codemirror_mode": {
    "name": "ipython",
    "version": 3
   },
   "file_extension": ".py",
   "mimetype": "text/x-python",
   "name": "python",
   "nbconvert_exporter": "python",
   "pygments_lexer": "ipython3",
   "version": "3.6.7"
  }
 },
 "nbformat": 4,
 "nbformat_minor": 2
}
