{
 "cells": [
  {
   "cell_type": "code",
   "execution_count": 88,
   "metadata": {},
   "outputs": [],
   "source": [
    "import os\n",
    "import FileSysUtility\n",
    "#import audioUtils\n",
    "import numpy as np\n",
    "from tqdm import tqdm\n",
    "import json\n",
    "import librosa"
   ]
  },
  {
   "cell_type": "code",
   "execution_count": 89,
   "metadata": {},
   "outputs": [],
   "source": [
    "#os.rename(\"LinZY03_01_2.wav\",\"tmp/LinZY03_01_2.wav\")"
   ]
  },
  {
   "cell_type": "code",
   "execution_count": 90,
   "metadata": {},
   "outputs": [
    {
     "name": "stdout",
     "output_type": "stream",
     "text": [
      "Reversed String of testStr is enon / tset a tsuj dna / dna tset a si sihT\n"
     ]
    },
    {
     "data": {
      "text/plain": [
       "'enon '"
      ]
     },
     "execution_count": 90,
     "metadata": {},
     "output_type": "execute_result"
    }
   ],
   "source": [
    "#Demo of Reverse a String and \n",
    "testStr = \"This is a test and / and just a test / none\"\n",
    "reverStr = testStr[::-1]\n",
    "print(\"Reversed String of testStr is {}\".format(reverStr))\n",
    "trimIdx = reverStr.index('/')\n",
    "trimIdx\n",
    "trimStr = reverStr[0:5]\n",
    "trimStr"
   ]
  },
  {
   "cell_type": "code",
   "execution_count": 91,
   "metadata": {},
   "outputs": [],
   "source": [
    "_basePath = \"linzy_command\"\n",
    "DIRS = FileSysUtility.getNextLevelDirs(_basePath)\n",
    "#for fname in DIRS:\n",
    " #   print(\"dir is %s\" %(fname))\n",
    "#print(\"1 to 19 command class file directory name are %s\" %([fname for fname in DIRS if fname[0] == '1']))\n"
   ]
  },
  {
   "cell_type": "code",
   "execution_count": 92,
   "metadata": {},
   "outputs": [
    {
     "name": "stderr",
     "output_type": "stream",
     "text": [
      "100%|██████████| 6/6 [00:00<00:00, 141.46it/s]\n",
      "100%|██████████| 6/6 [00:00<00:00, 233.58it/s]\n",
      "100%|██████████| 6/6 [00:00<00:00, 220.78it/s]\n",
      "100%|██████████| 6/6 [00:00<00:00, 172.26it/s]\n",
      "100%|██████████| 6/6 [00:00<00:00, 202.44it/s]\n",
      "  0%|          | 0/6 [00:00<?, ?it/s]"
     ]
    },
    {
     "name": "stdout",
     "output_type": "stream",
     "text": [
      "Processing Files in 14next\n",
      "Start to convert wav to numpy array\n",
      "Processing Files in 18right\n",
      "Start to convert wav to numpy array\n",
      "Processing Files in 11up\n",
      "Start to convert wav to numpy array\n",
      "Processing Files in 9\n",
      "Start to convert wav to numpy array\n",
      "Processing Files in 7\n",
      "Start to convert wav to numpy array\n",
      "Processing Files in 17left\n",
      "Start to convert wav to numpy array\n"
     ]
    },
    {
     "name": "stderr",
     "output_type": "stream",
     "text": [
      "100%|██████████| 6/6 [00:00<00:00, 292.32it/s]\n",
      "100%|██████████| 6/6 [00:00<00:00, 274.43it/s]\n",
      "100%|██████████| 6/6 [00:00<00:00, 290.08it/s]\n",
      "100%|██████████| 6/6 [00:00<00:00, 283.19it/s]\n",
      "100%|██████████| 6/6 [00:00<00:00, 210.04it/s]\n",
      "100%|██████████| 6/6 [00:00<00:00, 232.50it/s]\n",
      "100%|██████████| 6/6 [00:00<00:00, 257.21it/s]\n",
      "100%|██████████| 6/6 [00:00<00:00, 209.23it/s]\n",
      "  0%|          | 0/6 [00:00<?, ?it/s]"
     ]
    },
    {
     "name": "stdout",
     "output_type": "stream",
     "text": [
      "Processing Files in 6\n",
      "Start to convert wav to numpy array\n",
      "Processing Files in 1\n",
      "Start to convert wav to numpy array\n",
      "Processing Files in 8\n",
      "Start to convert wav to numpy array\n",
      "Processing Files in 15in\n",
      "Start to convert wav to numpy array\n",
      "Processing Files in 10close\n",
      "Start to convert wav to numpy array\n",
      "Processing Files in 16out\n",
      "Start to convert wav to numpy array\n",
      "Processing Files in 19home\n",
      "Start to convert wav to numpy array\n",
      "Processing Files in 4\n",
      "Start to convert wav to numpy array\n"
     ]
    },
    {
     "name": "stderr",
     "output_type": "stream",
     "text": [
      "100%|██████████| 6/6 [00:00<00:00, 214.84it/s]\n",
      "100%|██████████| 6/6 [00:00<00:00, 236.15it/s]\n",
      "100%|██████████| 6/6 [00:00<00:00, 203.86it/s]\n",
      "100%|██████████| 6/6 [00:00<00:00, 224.60it/s]\n",
      "100%|██████████| 6/6 [00:00<00:00, 161.15it/s]\n",
      "100%|██████████| 6/6 [00:00<00:00, 222.31it/s]"
     ]
    },
    {
     "name": "stdout",
     "output_type": "stream",
     "text": [
      "Processing Files in 3\n",
      "Start to convert wav to numpy array\n",
      "Processing Files in 13previous\n",
      "Start to convert wav to numpy array\n",
      "Processing Files in 2\n",
      "Start to convert wav to numpy array\n",
      "Processing Files in 5\n",
      "Start to convert wav to numpy array\n",
      "Processing Files in 12down\n",
      "Start to convert wav to numpy array\n"
     ]
    },
    {
     "name": "stderr",
     "output_type": "stream",
     "text": [
      "\n"
     ]
    }
   ],
   "source": [
    "# convert wav to np array\n",
    "for _dir in DIRS :\n",
    "    print(\"Processing Files in {}\".format(_dir))\n",
    "    if not os.path.isdir(_basePath+\"/\"+_dir+\"/tmp\"):\n",
    "        os.mkdir(os.path.join(_basePath,_dir,\"tmp\"))\n",
    "    \n",
    "    print(\"Start to convert wav to numpy array\")\n",
    "    WAV2NPArray(_dir)\n",
    "        \n",
    "    #call WMV2NPArray().\n",
    "        "
   ]
  },
  {
   "cell_type": "code",
   "execution_count": 86,
   "metadata": {
    "collapsed": true
   },
   "outputs": [],
   "source": [
    "def WAV2NPArray(folder):\n",
    "    allFiles = []\n",
    "    _fullfolderpath = os.path.join(_basePath,folder)\n",
    "    for _root,_,_files in os.walk(_fullfolderpath):\n",
    "        allFiles += [os.path.join(_root,_f) for _f in _files if _f.endswith('.wav')]\n",
    "    #print(\"length of allFiles is {}\".format(len(allFiles)))\n",
    "    #print(\"last file of this dir is {}\".format(allFiles[len(allFiles)-1]))\n",
    "    #print(allFiles)\n",
    "    #print(\"length of outside allFiles : {}\".format(len(allFiles)))\n",
    "    for _f in tqdm(allFiles):\n",
    "        y, sr = librosa.load(_f,sr=None)\n",
    "        _npyF = _f+\".npy\"\n",
    "        if not os.path.exists(_npyF):\n",
    "            np.save(_npyF,y)\n",
    "        #os.rename(_f,)\n",
    "        "
   ]
  },
  {
   "cell_type": "code",
   "execution_count": 83,
   "metadata": {
    "collapsed": true
   },
   "outputs": [],
   "source": [
    "def GenTrainDataInfo(FullFileName):\n",
    "    if not os.path.exits(FullFileName):\n",
    "        os.mkdir(FullFileName)\n",
    "        \n",
    "    "
   ]
  },
  {
   "cell_type": "code",
   "execution_count": 134,
   "metadata": {},
   "outputs": [],
   "source": [
    "def GenTraingLabel():\n",
    "    allDirs = next(os.walk(_basePath))[1]\n",
    "    print(\"allDirs are {}\".format(allDirs))\n",
    "    trainingLabels=[]\n",
    "    for _d in allDirs:\n",
    "        print(\"type of _d is {}\".format(type(_d)))\n",
    "        dlen = len(_d)\n",
    "        print(\"length of {} is {}\".format(_d,dlen))\n",
    "        if dlen == 1:\n",
    "            trainingLabels.append(_d)\n",
    "        else:\n",
    "            trainingLabels.append(_d[:2])\n",
    "            \n",
    "    return trainingLabels\n",
    "        "
   ]
  },
  {
   "cell_type": "code",
   "execution_count": 135,
   "metadata": {},
   "outputs": [
    {
     "name": "stdout",
     "output_type": "stream",
     "text": [
      "allDirs are ['14next', '18right', '11up', '9', '7', '17left', '6', '1', '8', '15in', '10close', '16out', '19home', '4', '3', '13previous', '2', '5', '12down']\n",
      "type of _d is <class 'str'>\n",
      "length of 14next is 6\n",
      "type of _d is <class 'str'>\n",
      "length of 18right is 7\n",
      "type of _d is <class 'str'>\n",
      "length of 11up is 4\n",
      "type of _d is <class 'str'>\n",
      "length of 9 is 1\n",
      "type of _d is <class 'str'>\n",
      "length of 7 is 1\n",
      "type of _d is <class 'str'>\n",
      "length of 17left is 6\n",
      "type of _d is <class 'str'>\n",
      "length of 6 is 1\n",
      "type of _d is <class 'str'>\n",
      "length of 1 is 1\n",
      "type of _d is <class 'str'>\n",
      "length of 8 is 1\n",
      "type of _d is <class 'str'>\n",
      "length of 15in is 4\n",
      "type of _d is <class 'str'>\n",
      "length of 10close is 7\n",
      "type of _d is <class 'str'>\n",
      "length of 16out is 5\n",
      "type of _d is <class 'str'>\n",
      "length of 19home is 6\n",
      "type of _d is <class 'str'>\n",
      "length of 4 is 1\n",
      "type of _d is <class 'str'>\n",
      "length of 3 is 1\n",
      "type of _d is <class 'str'>\n",
      "length of 13previous is 10\n",
      "type of _d is <class 'str'>\n",
      "length of 2 is 1\n",
      "type of _d is <class 'str'>\n",
      "length of 5 is 1\n",
      "type of _d is <class 'str'>\n",
      "length of 12down is 6\n",
      "['14', '18', '11', '9', '7', '17', '6', '1', '8', '15', '10', '16', '19', '4', '3', '13', '2', '5', '12']\n"
     ]
    }
   ],
   "source": [
    "print(GenTraingLabel())"
   ]
  },
  {
   "cell_type": "code",
   "execution_count": 117,
   "metadata": {},
   "outputs": [
    {
     "data": {
      "text/plain": [
       "'12'"
      ]
     },
     "execution_count": 117,
     "metadata": {},
     "output_type": "execute_result"
    }
   ],
   "source": [
    "teststr = \"12down\"\n",
    "teststr[:2]"
   ]
  },
  {
   "cell_type": "code",
   "execution_count": null,
   "metadata": {
    "collapsed": true
   },
   "outputs": [],
   "source": []
  }
 ],
 "metadata": {
  "kernelspec": {
   "display_name": "Python 3",
   "language": "python",
   "name": "python3"
  },
  "language_info": {
   "codemirror_mode": {
    "name": "ipython",
    "version": 3
   },
   "file_extension": ".py",
   "mimetype": "text/x-python",
   "name": "python",
   "nbconvert_exporter": "python",
   "pygments_lexer": "ipython3",
   "version": "3.6.2"
  }
 },
 "nbformat": 4,
 "nbformat_minor": 2
}
