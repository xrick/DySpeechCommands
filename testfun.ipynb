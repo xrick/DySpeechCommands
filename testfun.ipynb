{
 "cells": [
  {
   "cell_type": "code",
   "execution_count": 133,
   "metadata": {
    "collapsed": true
   },
   "outputs": [],
   "source": [
    "from tqdm import tqdm\n",
    "#import requests\n",
    "import math\n",
    "import os\n",
    "#import tarfile\n",
    "import numpy as np\n",
    "import librosa\n",
    "import pandas as pd\n",
    "\n",
    "import audioUtils"
   ]
  },
  {
   "cell_type": "code",
   "execution_count": 134,
   "metadata": {
    "collapsed": true
   },
   "outputs": [],
   "source": [
    "def testPrepareGoogleCmdFiles():\n",
    "    #define google command catgories\n",
    "    GSCmdV2Categs = {'unknown' : 0, 'silence' : 0, '_unknown_' : 0, '_silence_' : 0, '_background_noise_' : 0, 'yes' : 2, \n",
    "                         'no' : 3, 'up' : 4, 'down' : 5, 'left' : 6, 'right' : 7, 'on' : 8, 'off' : 9, 'stop' : 10, 'go' : 11,\n",
    "                         'zero' : 12, 'one' : 13, 'two' : 14, 'three' : 15, 'four' : 16, 'five' : 17, 'six' : 18, \n",
    "                         'seven' : 19,  'eight' : 20, 'nine' : 1, 'backward':21, 'bed':22, 'bird':23, 'cat':24, 'dog':25,\n",
    "                         'follow':26, 'forward':27, 'happy':28, 'house':29, 'learn':30, 'marvin':31, 'sheila':32, 'tree':33,\n",
    "                         'visual':34, 'wow':35}\n",
    "    numGSCmdV2Categs = 36\n",
    "    basepath = \"GSCV2\"\n",
    "    audioUtils.WAV2Numpy(basePath + '/train/')\n",
    "    \n",
    "    \n",
    "    "
   ]
  },
  {
   "cell_type": "code",
   "execution_count": 135,
   "metadata": {
    "collapsed": true
   },
   "outputs": [],
   "source": [
    "def getMFCC(filename):\n",
    "    print(\"The file to process is {}\".format(filename))\n",
    "    y,sr = librosa.load(filename,sr=16000)\n",
    "    mfccAry = librosa.feature.mfcc(y=y,sr=sr)\n",
    "    print(\"the shape of mfccAry is {}\".format(mfccAry.shape))\n",
    "    print(mfccAry)\n",
    "    "
   ]
  },
  {
   "cell_type": "code",
   "execution_count": 152,
   "metadata": {
    "collapsed": true
   },
   "outputs": [],
   "source": [
    "def processListFiles():\n",
    "    def doProcess(filename):\n",
    "        #print(filename)\n",
    "        #print(\"\\\\\")\n",
    "        with open(filename,\"r+\") as fin:\n",
    "            lines = fin.readlines()\n",
    "            for line in lines:\n",
    "                print(line)\n",
    "                #print(\"the highese \\\\ is at {}\".format(line.rindex(\"\\\\\")))\n",
    "        fin.close()\n",
    "        \n",
    "    #get all dictories in linzy_command\n",
    "    _dirs = getNextLevelDirs(\"linzy_command\")\n",
    "    #get the list file in every directory\n",
    "    #print(\"All directories in linzy_command are : {}\".format(getNextLevelDirs(\"linzy_command\")))\n",
    "            \n",
    "    #for root,dirs,files in os.walk(\"linzy_command\"):\n",
    "        #print(\"root:{}, dir:{}, files:{}\".format(root,(dirs if dirs else \"None\"),files))\n",
    "        #if files:\n",
    "            #for file in files:\n",
    "                #if file.endswith(\".list\"):\n",
    "                    #print(file)\n",
    "                    #doProcess(file)"
   ]
  },
  {
   "cell_type": "code",
   "execution_count": 153,
   "metadata": {
    "collapsed": true
   },
   "outputs": [],
   "source": [
    "def getNextLevelDirs(root):\n",
    "     return next(os.walk(root))[1]"
   ]
  },
  {
   "cell_type": "code",
   "execution_count": 154,
   "metadata": {
    "collapsed": true
   },
   "outputs": [],
   "source": [
    "def runApp():\n",
    "    #getMFCC(\"LinZY03_01_2.wav\")\n",
    "    processListFiles()"
   ]
  },
  {
   "cell_type": "code",
   "execution_count": 155,
   "metadata": {},
   "outputs": [
    {
     "name": "stdout",
     "output_type": "stream",
     "text": [
      "All directories in linzy_command are : ['14next', 'wav', '18right', '11up', '9', '7', '17left', '6', '1', '8', '15in', '10close', 'cut wav', '16out', '19home', '4', '3', '13previous', '2', '5', '12down']\n"
     ]
    }
   ],
   "source": [
    "#The following is entry point\n",
    "if __name__ == \"__main__\":\n",
    "    runApp()"
   ]
  },
  {
   "cell_type": "code",
   "execution_count": null,
   "metadata": {
    "collapsed": true
   },
   "outputs": [],
   "source": []
  }
 ],
 "metadata": {
  "kernelspec": {
   "display_name": "Python 3",
   "language": "python",
   "name": "python3"
  },
  "language_info": {
   "codemirror_mode": {
    "name": "ipython",
    "version": 3
   },
   "file_extension": ".py",
   "mimetype": "text/x-python",
   "name": "python",
   "nbconvert_exporter": "python",
   "pygments_lexer": "ipython3",
   "version": "3.7.0"
  }
 },
 "nbformat": 4,
 "nbformat_minor": 2
}
