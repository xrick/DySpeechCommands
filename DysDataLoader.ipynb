{
 "cells": [
  {
   "cell_type": "code",
   "execution_count": 1,
   "metadata": {
    "collapsed": true
   },
   "outputs": [],
   "source": [
    "from tqdm import tqdm\n",
    "#import requests\n",
    "import math\n",
    "import os\n",
    "#import tarfile\n",
    "import numpy as np\n",
    "import librosa\n",
    "import pandas as pd\n",
    "\n",
    "import audioUtils"
   ]
  },
  {
   "cell_type": "code",
   "execution_count": 1,
   "metadata": {},
   "outputs": [],
   "source": [
    "def PrepareDysSpeechCmd():\n",
    "    print(\"Start to convert wav file to numpy files\")\n",
    "    GSCmdV2Categs = {'unknown' : 0, 'silence' : 0, '_unknown_' : 0, '_silence_' : 0, '_background_noise_' : 0, 'yes' : 2, \n",
    "                         'no' : 3, 'up' : 4, 'down' : 5, 'left' : 6, 'right' : 7, 'on' : 8, 'off' : 9, 'stop' : 10, 'go' : 11,\n",
    "                         'zero' : 12, 'one' : 13, 'two' : 14, 'three' : 15, 'four' : 16, 'five' : 17, 'six' : 18, \n",
    "                         'seven' : 19,  'eight' : 20, 'nine' : 1, 'backward':21, 'bed':22, 'bird':23, 'cat':24, 'dog':25,\n",
    "                         'follow':26, 'forward':27, 'happy':28, 'house':29, 'learn':30, 'marvin':31, 'sheila':32, 'tree':33,\n",
    "                         'visual':34, 'wow':35}\n",
    "    CommonCmdV2Categs = {'up' : 0, 'down' : 1, 'left' : 2, 'right' : 3, 'on' : 4, 'off' : 5, 'stop' : 6, 'go' : 7,\n",
    "                         'zero' : 8, 'one' : 9, 'two' : 10, 'three' : 11, 'four' : 12, 'five' : 13, 'six' : 14, \n",
    "                         'seven' : 15,  'eight' : 16, 'nine' : 17}\n",
    "    numGSCmdV2Categs = 18\n",
    "    basepath = \"GSCV2\"\n",
    "    audioUtils.WAV2Numpy(basePath + '/train/')"
   ]
  },
  {
   "cell_type": "code",
   "execution_count": null,
   "metadata": {},
   "outputs": [],
   "source": []
  }
 ],
 "metadata": {
  "kernelspec": {
   "display_name": "Python 3",
   "language": "python",
   "name": "python3"
  },
  "language_info": {
   "codemirror_mode": {
    "name": "ipython",
    "version": 3
   },
   "file_extension": ".py",
   "mimetype": "text/x-python",
   "name": "python",
   "nbconvert_exporter": "python",
   "pygments_lexer": "ipython3",
   "version": "3.6.7"
  }
 },
 "nbformat": 4,
 "nbformat_minor": 2
}
